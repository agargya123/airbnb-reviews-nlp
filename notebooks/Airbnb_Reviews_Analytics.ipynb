{
  "cells": [
    {
      "cell_type": "markdown",
      "metadata": {
        "id": "sw1or_gX6ZvY"
      },
      "source": [
        "<H1> Airbnb Review Analytics </H1>\n",
        "\n",
        "Text analytics over the airbnb listings over the city of NYC.\n",
        "\n",
        "\n",
        "\n"
      ]
    },
    {
      "cell_type": "markdown",
      "metadata": {
        "id": "8GPUdQpi6vl-"
      },
      "source": [
        "# Imports and Loading the data"
      ]
    },
    {
      "cell_type": "code",
      "execution_count": 46,
      "metadata": {
        "id": "aQWIwJsoBZ69"
      },
      "outputs": [],
      "source": [
        "# Import libraries\n",
        "import pandas as pd\n",
        "import numpy as np\n",
        "import matplotlib.pyplot as plt\n",
        "import seaborn as sns\n",
        "from sklearn.model_selection import train_test_split\n",
        "from sklearn.metrics import mean_squared_error\n",
        "from sklearn.feature_extraction.text import TfidfVectorizer\n",
        "#import geopandas as gpd\n"
      ]
    },
    {
      "cell_type": "code",
      "execution_count": 47,
      "metadata": {},
      "outputs": [],
      "source": [
        "#import geopandas as gpd\n",
        "\n",
        "# Load the CSV data into pandas DataFrames\n",
        "listings_df = pd.read_csv('../data/listings.csv')\n",
        "neighbourhoods_df = pd.read_csv('../data/neighbourhoods.csv')\n",
        "reviews_df = pd.read_csv('../data/reviews.csv')"
      ]
    },
    {
      "cell_type": "code",
      "execution_count": 48,
      "metadata": {},
      "outputs": [
        {
          "data": {
            "text/html": [
              "<div>\n",
              "<style scoped>\n",
              "    .dataframe tbody tr th:only-of-type {\n",
              "        vertical-align: middle;\n",
              "    }\n",
              "\n",
              "    .dataframe tbody tr th {\n",
              "        vertical-align: top;\n",
              "    }\n",
              "\n",
              "    .dataframe thead th {\n",
              "        text-align: right;\n",
              "    }\n",
              "</style>\n",
              "<table border=\"1\" class=\"dataframe\">\n",
              "  <thead>\n",
              "    <tr style=\"text-align: right;\">\n",
              "      <th></th>\n",
              "      <th>listing_id</th>\n",
              "      <th>id</th>\n",
              "      <th>date</th>\n",
              "      <th>reviewer_id</th>\n",
              "      <th>reviewer_name</th>\n",
              "      <th>comments</th>\n",
              "    </tr>\n",
              "  </thead>\n",
              "  <tbody>\n",
              "    <tr>\n",
              "      <th>0</th>\n",
              "      <td>2595</td>\n",
              "      <td>17857</td>\n",
              "      <td>2009-11-21</td>\n",
              "      <td>50679</td>\n",
              "      <td>Jean</td>\n",
              "      <td>Notre séjour de trois nuits.\\r&lt;br/&gt;Nous avons ...</td>\n",
              "    </tr>\n",
              "    <tr>\n",
              "      <th>1</th>\n",
              "      <td>2595</td>\n",
              "      <td>19176</td>\n",
              "      <td>2009-12-05</td>\n",
              "      <td>53267</td>\n",
              "      <td>Cate</td>\n",
              "      <td>Great experience.</td>\n",
              "    </tr>\n",
              "    <tr>\n",
              "      <th>2</th>\n",
              "      <td>2595</td>\n",
              "      <td>19760</td>\n",
              "      <td>2009-12-10</td>\n",
              "      <td>38960</td>\n",
              "      <td>Anita</td>\n",
              "      <td>I've stayed with my friend at the Midtown Cast...</td>\n",
              "    </tr>\n",
              "    <tr>\n",
              "      <th>3</th>\n",
              "      <td>2595</td>\n",
              "      <td>34320</td>\n",
              "      <td>2010-04-09</td>\n",
              "      <td>71130</td>\n",
              "      <td>Kai-Uwe</td>\n",
              "      <td>We've been staying here for about 9 nights, en...</td>\n",
              "    </tr>\n",
              "    <tr>\n",
              "      <th>4</th>\n",
              "      <td>2595</td>\n",
              "      <td>46312</td>\n",
              "      <td>2010-05-25</td>\n",
              "      <td>117113</td>\n",
              "      <td>Alicia</td>\n",
              "      <td>We had a wonderful stay at Jennifer's charming...</td>\n",
              "    </tr>\n",
              "    <tr>\n",
              "      <th>...</th>\n",
              "      <td>...</td>\n",
              "      <td>...</td>\n",
              "      <td>...</td>\n",
              "      <td>...</td>\n",
              "      <td>...</td>\n",
              "      <td>...</td>\n",
              "    </tr>\n",
              "    <tr>\n",
              "      <th>969481</th>\n",
              "      <td>1295054021439479562</td>\n",
              "      <td>1318207836791174950</td>\n",
              "      <td>2024-12-23</td>\n",
              "      <td>485243180</td>\n",
              "      <td>Vennela</td>\n",
              "      <td>The place was amazing! Great location and area...</td>\n",
              "    </tr>\n",
              "    <tr>\n",
              "      <th>969482</th>\n",
              "      <td>1295058207773420592</td>\n",
              "      <td>1302324242336666111</td>\n",
              "      <td>2024-12-01</td>\n",
              "      <td>368726917</td>\n",
              "      <td>Veronica</td>\n",
              "      <td>This was the perfect stay for our trip. Margar...</td>\n",
              "    </tr>\n",
              "    <tr>\n",
              "      <th>969483</th>\n",
              "      <td>1295058207773420592</td>\n",
              "      <td>1305143295960134335</td>\n",
              "      <td>2024-12-05</td>\n",
              "      <td>431518239</td>\n",
              "      <td>Rudy</td>\n",
              "      <td>….lugar increíble me sentí como en casa</td>\n",
              "    </tr>\n",
              "    <tr>\n",
              "      <th>969484</th>\n",
              "      <td>1295058207773420592</td>\n",
              "      <td>1309605174750125344</td>\n",
              "      <td>2024-12-11</td>\n",
              "      <td>26420925</td>\n",
              "      <td>Tara</td>\n",
              "      <td>We loved this place and would stay again.  Our...</td>\n",
              "    </tr>\n",
              "    <tr>\n",
              "      <th>969485</th>\n",
              "      <td>1295058207773420592</td>\n",
              "      <td>1313938907016779168</td>\n",
              "      <td>2024-12-17</td>\n",
              "      <td>475053811</td>\n",
              "      <td>Kately</td>\n",
              "      <td>Great place to stay at definitely would stay t...</td>\n",
              "    </tr>\n",
              "  </tbody>\n",
              "</table>\n",
              "<p>969486 rows × 6 columns</p>\n",
              "</div>"
            ],
            "text/plain": [
              "                 listing_id                   id        date  reviewer_id  \\\n",
              "0                      2595                17857  2009-11-21        50679   \n",
              "1                      2595                19176  2009-12-05        53267   \n",
              "2                      2595                19760  2009-12-10        38960   \n",
              "3                      2595                34320  2010-04-09        71130   \n",
              "4                      2595                46312  2010-05-25       117113   \n",
              "...                     ...                  ...         ...          ...   \n",
              "969481  1295054021439479562  1318207836791174950  2024-12-23    485243180   \n",
              "969482  1295058207773420592  1302324242336666111  2024-12-01    368726917   \n",
              "969483  1295058207773420592  1305143295960134335  2024-12-05    431518239   \n",
              "969484  1295058207773420592  1309605174750125344  2024-12-11     26420925   \n",
              "969485  1295058207773420592  1313938907016779168  2024-12-17    475053811   \n",
              "\n",
              "       reviewer_name                                           comments  \n",
              "0               Jean  Notre séjour de trois nuits.\\r<br/>Nous avons ...  \n",
              "1               Cate                                  Great experience.  \n",
              "2              Anita  I've stayed with my friend at the Midtown Cast...  \n",
              "3            Kai-Uwe  We've been staying here for about 9 nights, en...  \n",
              "4             Alicia  We had a wonderful stay at Jennifer's charming...  \n",
              "...              ...                                                ...  \n",
              "969481       Vennela  The place was amazing! Great location and area...  \n",
              "969482      Veronica  This was the perfect stay for our trip. Margar...  \n",
              "969483          Rudy            ….lugar increíble me sentí como en casa  \n",
              "969484          Tara  We loved this place and would stay again.  Our...  \n",
              "969485        Kately  Great place to stay at definitely would stay t...  \n",
              "\n",
              "[969486 rows x 6 columns]"
            ]
          },
          "execution_count": 48,
          "metadata": {},
          "output_type": "execute_result"
        }
      ],
      "source": [
        "reviews_df"
      ]
    },
    {
      "cell_type": "code",
      "execution_count": 49,
      "metadata": {
        "colab": {
          "base_uri": "https://localhost:8080/",
          "height": 704
        },
        "id": "IOKxxsz9B6wQ",
        "outputId": "7ba5b81c-d69d-40d2-8c58-4da70a13c1e0"
      },
      "outputs": [
        {
          "data": {
            "text/html": [
              "<div>\n",
              "<style scoped>\n",
              "    .dataframe tbody tr th:only-of-type {\n",
              "        vertical-align: middle;\n",
              "    }\n",
              "\n",
              "    .dataframe tbody tr th {\n",
              "        vertical-align: top;\n",
              "    }\n",
              "\n",
              "    .dataframe thead th {\n",
              "        text-align: right;\n",
              "    }\n",
              "</style>\n",
              "<table border=\"1\" class=\"dataframe\">\n",
              "  <thead>\n",
              "    <tr style=\"text-align: right;\">\n",
              "      <th></th>\n",
              "      <th>id</th>\n",
              "      <th>listing_url</th>\n",
              "      <th>scrape_id</th>\n",
              "      <th>last_scraped</th>\n",
              "      <th>source</th>\n",
              "      <th>name</th>\n",
              "      <th>description</th>\n",
              "      <th>neighborhood_overview</th>\n",
              "      <th>picture_url</th>\n",
              "      <th>host_id</th>\n",
              "      <th>...</th>\n",
              "      <th>review_scores_communication</th>\n",
              "      <th>review_scores_location</th>\n",
              "      <th>review_scores_value</th>\n",
              "      <th>license</th>\n",
              "      <th>instant_bookable</th>\n",
              "      <th>calculated_host_listings_count</th>\n",
              "      <th>calculated_host_listings_count_entire_homes</th>\n",
              "      <th>calculated_host_listings_count_private_rooms</th>\n",
              "      <th>calculated_host_listings_count_shared_rooms</th>\n",
              "      <th>reviews_per_month</th>\n",
              "    </tr>\n",
              "  </thead>\n",
              "  <tbody>\n",
              "    <tr>\n",
              "      <th>0</th>\n",
              "      <td>39572</td>\n",
              "      <td>https://www.airbnb.com/rooms/39572</td>\n",
              "      <td>20250103033441</td>\n",
              "      <td>2025-01-03</td>\n",
              "      <td>city scrape</td>\n",
              "      <td>1 br in a 2 br apt (Midtown West)</td>\n",
              "      <td>NaN</td>\n",
              "      <td>NaN</td>\n",
              "      <td>https://a0.muscache.com/pictures/fd1bffd9-ccf8...</td>\n",
              "      <td>169927</td>\n",
              "      <td>...</td>\n",
              "      <td>5.00</td>\n",
              "      <td>4.98</td>\n",
              "      <td>4.86</td>\n",
              "      <td>NaN</td>\n",
              "      <td>f</td>\n",
              "      <td>2</td>\n",
              "      <td>1</td>\n",
              "      <td>1</td>\n",
              "      <td>0</td>\n",
              "      <td>0.25</td>\n",
              "    </tr>\n",
              "    <tr>\n",
              "      <th>1</th>\n",
              "      <td>39593</td>\n",
              "      <td>https://www.airbnb.com/rooms/39593</td>\n",
              "      <td>20250103033441</td>\n",
              "      <td>2025-01-03</td>\n",
              "      <td>city scrape</td>\n",
              "      <td>A lovely room w/ a Manhattan view</td>\n",
              "      <td>A private, furnished  large room to rent Jan/F...</td>\n",
              "      <td>Nate Silver called this super safe, clean, qui...</td>\n",
              "      <td>https://a0.muscache.com/pictures/0b9110f7-3b24...</td>\n",
              "      <td>110506</td>\n",
              "      <td>...</td>\n",
              "      <td>4.96</td>\n",
              "      <td>4.79</td>\n",
              "      <td>4.93</td>\n",
              "      <td>NaN</td>\n",
              "      <td>f</td>\n",
              "      <td>1</td>\n",
              "      <td>0</td>\n",
              "      <td>1</td>\n",
              "      <td>0</td>\n",
              "      <td>0.20</td>\n",
              "    </tr>\n",
              "    <tr>\n",
              "      <th>2</th>\n",
              "      <td>39704</td>\n",
              "      <td>https://www.airbnb.com/rooms/39704</td>\n",
              "      <td>20250103033441</td>\n",
              "      <td>2025-01-03</td>\n",
              "      <td>previous scrape</td>\n",
              "      <td>Private, Large &amp; Sunny 1BR w/W&amp;D</td>\n",
              "      <td>It's a No Brainer:&lt;br /&gt;•Terrific Space For Le...</td>\n",
              "      <td>The Neighborhood&lt;br /&gt;• Rich History &lt;br /&gt;• B...</td>\n",
              "      <td>https://a0.muscache.com/pictures/0bc4e8a4-c047...</td>\n",
              "      <td>170510</td>\n",
              "      <td>...</td>\n",
              "      <td>4.92</td>\n",
              "      <td>4.38</td>\n",
              "      <td>4.72</td>\n",
              "      <td>NaN</td>\n",
              "      <td>f</td>\n",
              "      <td>2</td>\n",
              "      <td>2</td>\n",
              "      <td>0</td>\n",
              "      <td>0</td>\n",
              "      <td>1.93</td>\n",
              "    </tr>\n",
              "    <tr>\n",
              "      <th>3</th>\n",
              "      <td>42300</td>\n",
              "      <td>https://www.airbnb.com/rooms/42300</td>\n",
              "      <td>20250103033441</td>\n",
              "      <td>2025-01-03</td>\n",
              "      <td>city scrape</td>\n",
              "      <td>Beautiful Lower East Side Loft</td>\n",
              "      <td>Architect-owned loft is a corner unit in a bea...</td>\n",
              "      <td>The apartment is in the border of Soho, LES an...</td>\n",
              "      <td>https://a0.muscache.com/pictures/0e285e13-ee14...</td>\n",
              "      <td>184755</td>\n",
              "      <td>...</td>\n",
              "      <td>4.87</td>\n",
              "      <td>4.57</td>\n",
              "      <td>4.62</td>\n",
              "      <td>NaN</td>\n",
              "      <td>f</td>\n",
              "      <td>1</td>\n",
              "      <td>1</td>\n",
              "      <td>0</td>\n",
              "      <td>0</td>\n",
              "      <td>0.40</td>\n",
              "    </tr>\n",
              "    <tr>\n",
              "      <th>4</th>\n",
              "      <td>42729</td>\n",
              "      <td>https://www.airbnb.com/rooms/42729</td>\n",
              "      <td>20250103033441</td>\n",
              "      <td>2025-01-03</td>\n",
              "      <td>city scrape</td>\n",
              "      <td>@HouseOnHenrySt - Private 2nd bedroom w/shared...</td>\n",
              "      <td>NaN</td>\n",
              "      <td>Lovely old Brooklyn neighborhood, with brick/b...</td>\n",
              "      <td>https://a0.muscache.com/pictures/925fe213-f5e1...</td>\n",
              "      <td>11481</td>\n",
              "      <td>...</td>\n",
              "      <td>4.73</td>\n",
              "      <td>4.58</td>\n",
              "      <td>4.64</td>\n",
              "      <td>NaN</td>\n",
              "      <td>f</td>\n",
              "      <td>4</td>\n",
              "      <td>1</td>\n",
              "      <td>3</td>\n",
              "      <td>0</td>\n",
              "      <td>1.26</td>\n",
              "    </tr>\n",
              "    <tr>\n",
              "      <th>...</th>\n",
              "      <td>...</td>\n",
              "      <td>...</td>\n",
              "      <td>...</td>\n",
              "      <td>...</td>\n",
              "      <td>...</td>\n",
              "      <td>...</td>\n",
              "      <td>...</td>\n",
              "      <td>...</td>\n",
              "      <td>...</td>\n",
              "      <td>...</td>\n",
              "      <td>...</td>\n",
              "      <td>...</td>\n",
              "      <td>...</td>\n",
              "      <td>...</td>\n",
              "      <td>...</td>\n",
              "      <td>...</td>\n",
              "      <td>...</td>\n",
              "      <td>...</td>\n",
              "      <td>...</td>\n",
              "      <td>...</td>\n",
              "      <td>...</td>\n",
              "    </tr>\n",
              "    <tr>\n",
              "      <th>37779</th>\n",
              "      <td>1322024128476576885</td>\n",
              "      <td>https://www.airbnb.com/rooms/1322024128476576885</td>\n",
              "      <td>20250103033441</td>\n",
              "      <td>2025-01-03</td>\n",
              "      <td>city scrape</td>\n",
              "      <td>The Gem of Riverdale, NYC!</td>\n",
              "      <td>Visiting NYC and looking for a place to stay? ...</td>\n",
              "      <td>NaN</td>\n",
              "      <td>https://a0.muscache.com/pictures/hosting/Hosti...</td>\n",
              "      <td>35391290</td>\n",
              "      <td>...</td>\n",
              "      <td>NaN</td>\n",
              "      <td>NaN</td>\n",
              "      <td>NaN</td>\n",
              "      <td>NaN</td>\n",
              "      <td>f</td>\n",
              "      <td>3</td>\n",
              "      <td>3</td>\n",
              "      <td>0</td>\n",
              "      <td>0</td>\n",
              "      <td>NaN</td>\n",
              "    </tr>\n",
              "    <tr>\n",
              "      <th>37780</th>\n",
              "      <td>1322305006441883773</td>\n",
              "      <td>https://www.airbnb.com/rooms/1322305006441883773</td>\n",
              "      <td>20250103033441</td>\n",
              "      <td>2025-01-03</td>\n",
              "      <td>city scrape</td>\n",
              "      <td>Amazing 1BR &amp; 1BTH</td>\n",
              "      <td>This special place is close to everything, mak...</td>\n",
              "      <td>NaN</td>\n",
              "      <td>https://a0.muscache.com/pictures/miso/Hosting-...</td>\n",
              "      <td>504878421</td>\n",
              "      <td>...</td>\n",
              "      <td>NaN</td>\n",
              "      <td>NaN</td>\n",
              "      <td>NaN</td>\n",
              "      <td>NaN</td>\n",
              "      <td>f</td>\n",
              "      <td>3</td>\n",
              "      <td>3</td>\n",
              "      <td>0</td>\n",
              "      <td>0</td>\n",
              "      <td>NaN</td>\n",
              "    </tr>\n",
              "    <tr>\n",
              "      <th>37781</th>\n",
              "      <td>1322523395081457963</td>\n",
              "      <td>https://www.airbnb.com/rooms/1322523395081457963</td>\n",
              "      <td>20250103033441</td>\n",
              "      <td>2025-01-03</td>\n",
              "      <td>city scrape</td>\n",
              "      <td>Home Share w/ Young Professionals - 2/3/4/5 Tr...</td>\n",
              "      <td>Sun-filled, fully furnished apartment located ...</td>\n",
              "      <td>NaN</td>\n",
              "      <td>https://a0.muscache.com/pictures/miso/Hosting-...</td>\n",
              "      <td>2822805</td>\n",
              "      <td>...</td>\n",
              "      <td>NaN</td>\n",
              "      <td>NaN</td>\n",
              "      <td>NaN</td>\n",
              "      <td>NaN</td>\n",
              "      <td>f</td>\n",
              "      <td>21</td>\n",
              "      <td>0</td>\n",
              "      <td>21</td>\n",
              "      <td>0</td>\n",
              "      <td>NaN</td>\n",
              "    </tr>\n",
              "    <tr>\n",
              "      <th>37782</th>\n",
              "      <td>1322561224337225530</td>\n",
              "      <td>https://www.airbnb.com/rooms/1322561224337225530</td>\n",
              "      <td>20250103033441</td>\n",
              "      <td>2025-01-03</td>\n",
              "      <td>city scrape</td>\n",
              "      <td>Bedroom for rent in two bedroom UWS apartment</td>\n",
              "      <td>bedroom available for short and long-term rent...</td>\n",
              "      <td>NaN</td>\n",
              "      <td>https://a0.muscache.com/pictures/hosting/Hosti...</td>\n",
              "      <td>666385153</td>\n",
              "      <td>...</td>\n",
              "      <td>NaN</td>\n",
              "      <td>NaN</td>\n",
              "      <td>NaN</td>\n",
              "      <td>NaN</td>\n",
              "      <td>f</td>\n",
              "      <td>1</td>\n",
              "      <td>0</td>\n",
              "      <td>1</td>\n",
              "      <td>0</td>\n",
              "      <td>NaN</td>\n",
              "    </tr>\n",
              "    <tr>\n",
              "      <th>37783</th>\n",
              "      <td>1322667742043410903</td>\n",
              "      <td>https://www.airbnb.com/rooms/1322667742043410903</td>\n",
              "      <td>20250103033441</td>\n",
              "      <td>2025-01-03</td>\n",
              "      <td>city scrape</td>\n",
              "      <td>Bright room with in-building washer/dryer-394</td>\n",
              "      <td>Bedford Avenue #394&lt;br /&gt;- Bright bedroom with...</td>\n",
              "      <td>NaN</td>\n",
              "      <td>https://a0.muscache.com/pictures/miso/Hosting-...</td>\n",
              "      <td>41475188</td>\n",
              "      <td>...</td>\n",
              "      <td>NaN</td>\n",
              "      <td>NaN</td>\n",
              "      <td>NaN</td>\n",
              "      <td>NaN</td>\n",
              "      <td>f</td>\n",
              "      <td>13</td>\n",
              "      <td>0</td>\n",
              "      <td>13</td>\n",
              "      <td>0</td>\n",
              "      <td>NaN</td>\n",
              "    </tr>\n",
              "  </tbody>\n",
              "</table>\n",
              "<p>37784 rows × 75 columns</p>\n",
              "</div>"
            ],
            "text/plain": [
              "                        id                                       listing_url  \\\n",
              "0                    39572                https://www.airbnb.com/rooms/39572   \n",
              "1                    39593                https://www.airbnb.com/rooms/39593   \n",
              "2                    39704                https://www.airbnb.com/rooms/39704   \n",
              "3                    42300                https://www.airbnb.com/rooms/42300   \n",
              "4                    42729                https://www.airbnb.com/rooms/42729   \n",
              "...                    ...                                               ...   \n",
              "37779  1322024128476576885  https://www.airbnb.com/rooms/1322024128476576885   \n",
              "37780  1322305006441883773  https://www.airbnb.com/rooms/1322305006441883773   \n",
              "37781  1322523395081457963  https://www.airbnb.com/rooms/1322523395081457963   \n",
              "37782  1322561224337225530  https://www.airbnb.com/rooms/1322561224337225530   \n",
              "37783  1322667742043410903  https://www.airbnb.com/rooms/1322667742043410903   \n",
              "\n",
              "            scrape_id last_scraped           source  \\\n",
              "0      20250103033441   2025-01-03      city scrape   \n",
              "1      20250103033441   2025-01-03      city scrape   \n",
              "2      20250103033441   2025-01-03  previous scrape   \n",
              "3      20250103033441   2025-01-03      city scrape   \n",
              "4      20250103033441   2025-01-03      city scrape   \n",
              "...               ...          ...              ...   \n",
              "37779  20250103033441   2025-01-03      city scrape   \n",
              "37780  20250103033441   2025-01-03      city scrape   \n",
              "37781  20250103033441   2025-01-03      city scrape   \n",
              "37782  20250103033441   2025-01-03      city scrape   \n",
              "37783  20250103033441   2025-01-03      city scrape   \n",
              "\n",
              "                                                    name  \\\n",
              "0                      1 br in a 2 br apt (Midtown West)   \n",
              "1                      A lovely room w/ a Manhattan view   \n",
              "2                       Private, Large & Sunny 1BR w/W&D   \n",
              "3                         Beautiful Lower East Side Loft   \n",
              "4      @HouseOnHenrySt - Private 2nd bedroom w/shared...   \n",
              "...                                                  ...   \n",
              "37779                         The Gem of Riverdale, NYC!   \n",
              "37780                                 Amazing 1BR & 1BTH   \n",
              "37781  Home Share w/ Young Professionals - 2/3/4/5 Tr...   \n",
              "37782      Bedroom for rent in two bedroom UWS apartment   \n",
              "37783      Bright room with in-building washer/dryer-394   \n",
              "\n",
              "                                             description  \\\n",
              "0                                                    NaN   \n",
              "1      A private, furnished  large room to rent Jan/F...   \n",
              "2      It's a No Brainer:<br />•Terrific Space For Le...   \n",
              "3      Architect-owned loft is a corner unit in a bea...   \n",
              "4                                                    NaN   \n",
              "...                                                  ...   \n",
              "37779  Visiting NYC and looking for a place to stay? ...   \n",
              "37780  This special place is close to everything, mak...   \n",
              "37781  Sun-filled, fully furnished apartment located ...   \n",
              "37782  bedroom available for short and long-term rent...   \n",
              "37783  Bedford Avenue #394<br />- Bright bedroom with...   \n",
              "\n",
              "                                   neighborhood_overview  \\\n",
              "0                                                    NaN   \n",
              "1      Nate Silver called this super safe, clean, qui...   \n",
              "2      The Neighborhood<br />• Rich History <br />• B...   \n",
              "3      The apartment is in the border of Soho, LES an...   \n",
              "4      Lovely old Brooklyn neighborhood, with brick/b...   \n",
              "...                                                  ...   \n",
              "37779                                                NaN   \n",
              "37780                                                NaN   \n",
              "37781                                                NaN   \n",
              "37782                                                NaN   \n",
              "37783                                                NaN   \n",
              "\n",
              "                                             picture_url    host_id  ...  \\\n",
              "0      https://a0.muscache.com/pictures/fd1bffd9-ccf8...     169927  ...   \n",
              "1      https://a0.muscache.com/pictures/0b9110f7-3b24...     110506  ...   \n",
              "2      https://a0.muscache.com/pictures/0bc4e8a4-c047...     170510  ...   \n",
              "3      https://a0.muscache.com/pictures/0e285e13-ee14...     184755  ...   \n",
              "4      https://a0.muscache.com/pictures/925fe213-f5e1...      11481  ...   \n",
              "...                                                  ...        ...  ...   \n",
              "37779  https://a0.muscache.com/pictures/hosting/Hosti...   35391290  ...   \n",
              "37780  https://a0.muscache.com/pictures/miso/Hosting-...  504878421  ...   \n",
              "37781  https://a0.muscache.com/pictures/miso/Hosting-...    2822805  ...   \n",
              "37782  https://a0.muscache.com/pictures/hosting/Hosti...  666385153  ...   \n",
              "37783  https://a0.muscache.com/pictures/miso/Hosting-...   41475188  ...   \n",
              "\n",
              "      review_scores_communication review_scores_location review_scores_value  \\\n",
              "0                            5.00                   4.98                4.86   \n",
              "1                            4.96                   4.79                4.93   \n",
              "2                            4.92                   4.38                4.72   \n",
              "3                            4.87                   4.57                4.62   \n",
              "4                            4.73                   4.58                4.64   \n",
              "...                           ...                    ...                 ...   \n",
              "37779                         NaN                    NaN                 NaN   \n",
              "37780                         NaN                    NaN                 NaN   \n",
              "37781                         NaN                    NaN                 NaN   \n",
              "37782                         NaN                    NaN                 NaN   \n",
              "37783                         NaN                    NaN                 NaN   \n",
              "\n",
              "      license instant_bookable calculated_host_listings_count  \\\n",
              "0         NaN                f                              2   \n",
              "1         NaN                f                              1   \n",
              "2         NaN                f                              2   \n",
              "3         NaN                f                              1   \n",
              "4         NaN                f                              4   \n",
              "...       ...              ...                            ...   \n",
              "37779     NaN                f                              3   \n",
              "37780     NaN                f                              3   \n",
              "37781     NaN                f                             21   \n",
              "37782     NaN                f                              1   \n",
              "37783     NaN                f                             13   \n",
              "\n",
              "      calculated_host_listings_count_entire_homes  \\\n",
              "0                                               1   \n",
              "1                                               0   \n",
              "2                                               2   \n",
              "3                                               1   \n",
              "4                                               1   \n",
              "...                                           ...   \n",
              "37779                                           3   \n",
              "37780                                           3   \n",
              "37781                                           0   \n",
              "37782                                           0   \n",
              "37783                                           0   \n",
              "\n",
              "      calculated_host_listings_count_private_rooms  \\\n",
              "0                                                1   \n",
              "1                                                1   \n",
              "2                                                0   \n",
              "3                                                0   \n",
              "4                                                3   \n",
              "...                                            ...   \n",
              "37779                                            0   \n",
              "37780                                            0   \n",
              "37781                                           21   \n",
              "37782                                            1   \n",
              "37783                                           13   \n",
              "\n",
              "      calculated_host_listings_count_shared_rooms reviews_per_month  \n",
              "0                                               0              0.25  \n",
              "1                                               0              0.20  \n",
              "2                                               0              1.93  \n",
              "3                                               0              0.40  \n",
              "4                                               0              1.26  \n",
              "...                                           ...               ...  \n",
              "37779                                           0               NaN  \n",
              "37780                                           0               NaN  \n",
              "37781                                           0               NaN  \n",
              "37782                                           0               NaN  \n",
              "37783                                           0               NaN  \n",
              "\n",
              "[37784 rows x 75 columns]"
            ]
          },
          "execution_count": 49,
          "metadata": {},
          "output_type": "execute_result"
        }
      ],
      "source": [
        "listings_df"
      ]
    },
    {
      "cell_type": "code",
      "execution_count": 50,
      "metadata": {
        "colab": {
          "base_uri": "https://localhost:8080/"
        },
        "id": "305ODpVECCbB",
        "outputId": "e338cf15-2d7a-4eb2-d33f-cbd35d3b5df0"
      },
      "outputs": [
        {
          "data": {
            "text/plain": [
              "Index(['id', 'listing_url', 'scrape_id', 'last_scraped', 'source', 'name',\n",
              "       'description', 'neighborhood_overview', 'picture_url', 'host_id',\n",
              "       'host_url', 'host_name', 'host_since', 'host_location', 'host_about',\n",
              "       'host_response_time', 'host_response_rate', 'host_acceptance_rate',\n",
              "       'host_is_superhost', 'host_thumbnail_url', 'host_picture_url',\n",
              "       'host_neighbourhood', 'host_listings_count',\n",
              "       'host_total_listings_count', 'host_verifications',\n",
              "       'host_has_profile_pic', 'host_identity_verified', 'neighbourhood',\n",
              "       'neighbourhood_cleansed', 'neighbourhood_group_cleansed', 'latitude',\n",
              "       'longitude', 'property_type', 'room_type', 'accommodates', 'bathrooms',\n",
              "       'bathrooms_text', 'bedrooms', 'beds', 'amenities', 'price',\n",
              "       'minimum_nights', 'maximum_nights', 'minimum_minimum_nights',\n",
              "       'maximum_minimum_nights', 'minimum_maximum_nights',\n",
              "       'maximum_maximum_nights', 'minimum_nights_avg_ntm',\n",
              "       'maximum_nights_avg_ntm', 'calendar_updated', 'has_availability',\n",
              "       'availability_30', 'availability_60', 'availability_90',\n",
              "       'availability_365', 'calendar_last_scraped', 'number_of_reviews',\n",
              "       'number_of_reviews_ltm', 'number_of_reviews_l30d', 'first_review',\n",
              "       'last_review', 'review_scores_rating', 'review_scores_accuracy',\n",
              "       'review_scores_cleanliness', 'review_scores_checkin',\n",
              "       'review_scores_communication', 'review_scores_location',\n",
              "       'review_scores_value', 'license', 'instant_bookable',\n",
              "       'calculated_host_listings_count',\n",
              "       'calculated_host_listings_count_entire_homes',\n",
              "       'calculated_host_listings_count_private_rooms',\n",
              "       'calculated_host_listings_count_shared_rooms', 'reviews_per_month'],\n",
              "      dtype='object')"
            ]
          },
          "execution_count": 50,
          "metadata": {},
          "output_type": "execute_result"
        }
      ],
      "source": [
        "listings_df.columns"
      ]
    },
    {
      "cell_type": "code",
      "execution_count": 51,
      "metadata": {},
      "outputs": [
        {
          "data": {
            "text/plain": [
              "array(['Manhattan', 'Queens', 'Brooklyn', 'Bronx', 'Staten Island'],\n",
              "      dtype=object)"
            ]
          },
          "execution_count": 51,
          "metadata": {},
          "output_type": "execute_result"
        }
      ],
      "source": [
        "listings_df['neighbourhood_group_cleansed'].unique()"
      ]
    },
    {
      "cell_type": "code",
      "execution_count": 52,
      "metadata": {},
      "outputs": [
        {
          "name": "stdout",
          "output_type": "stream",
          "text": [
            "Property type:  ['Private room in rental unit' 'Private room in condo' 'Entire townhouse'\n",
            " 'Entire loft' 'Private room in townhouse' 'Entire rental unit'\n",
            " 'Private room in home' 'Private room in loft'\n",
            " 'Private room in guest suite' 'Entire place'\n",
            " 'Private room in bed and breakfast' 'Entire guesthouse' 'Entire condo'\n",
            " 'Entire home' 'Room in boutique hotel' 'Entire serviced apartment'\n",
            " 'Entire guest suite' 'Private room in houseboat' 'Private room'\n",
            " 'Shared room in rental unit' 'Private room in guesthouse' 'Boat'\n",
            " 'Room in serviced apartment' 'Private room in religious building'\n",
            " 'Casa particular' 'Private room in villa'\n",
            " 'Private room in serviced apartment' 'Shared room in home' 'Cave'\n",
            " 'Shared room in townhouse' 'Private room in tiny home' 'Entire bungalow'\n",
            " 'Floor' 'Room in hotel' 'Shared room in condo' 'Houseboat'\n",
            " 'Private room in bungalow' 'Entire villa' 'Private room in floor'\n",
            " 'Room in aparthotel' 'Entire bed and breakfast' 'Private room in resort'\n",
            " 'Entire cottage' 'Shared room in loft' 'Private room in hostel'\n",
            " 'Entire home/apt' 'Tiny home' 'Private room in tent'\n",
            " 'Private room in in-law' 'Private room in farm stay'\n",
            " 'Private room in casa particular' 'Entire vacation home'\n",
            " 'Private room in cottage' 'Private room in vacation home'\n",
            " 'Private room in earthen home' 'Private room in barn'\n",
            " 'Private room in train' 'Barn' 'Private room in lighthouse' 'Camper/RV'\n",
            " 'Private room in camper/rv' 'Private room in kezhan'\n",
            " 'Shared room in serviced apartment' 'Private room in ranch' 'Tower'\n",
            " 'Shared room in casa particular' 'Private room in castle'\n",
            " 'Private room in tower' 'Shared room in guest suite']\n"
          ]
        }
      ],
      "source": [
        "print(\"Property type: \", listings_df['property_type'].unique())\n",
        "#print(\"Amenities: \", listings_df['amenities'].unique())"
      ]
    },
    {
      "cell_type": "code",
      "execution_count": 53,
      "metadata": {},
      "outputs": [
        {
          "data": {
            "text/plain": [
              "array([4.86, 4.93, 4.71, 4.8 , 4.66, 5.  , 4.69, 4.64, 4.78, 4.68, 4.58,\n",
              "       4.88, 4.91, 4.89, 4.77, 4.42,  nan, 4.72, 4.44, 4.97, 4.34, 4.52,\n",
              "       4.4 , 4.55, 4.82, 4.59, 4.  , 4.65, 4.35, 4.87, 4.84, 4.73, 4.85,\n",
              "       4.41, 4.95, 4.63, 4.49, 4.83, 4.67, 4.75, 4.81, 4.05, 4.62, 4.74,\n",
              "       4.53, 4.5 , 4.79, 4.33, 4.54, 4.96, 4.98, 4.7 , 4.94, 4.9 , 4.17,\n",
              "       4.56, 4.76, 4.51, 4.45, 4.38, 4.6 , 4.99, 4.92, 4.18, 4.25, 3.75,\n",
              "       4.61, 4.57, 3.43, 4.23, 4.2 , 4.26, 4.11, 4.29, 4.22, 4.14, 0.  ,\n",
              "       4.43, 4.36, 4.48, 4.47, 4.28, 4.21, 4.32, 4.15, 3.  , 4.24, 4.39,\n",
              "       4.37, 3.6 , 4.31, 4.12, 4.13, 4.16, 4.46, 4.3 , 4.27, 4.19, 1.  ,\n",
              "       3.5 , 3.88, 2.  , 4.09, 3.67, 4.07, 3.86, 4.1 , 3.83, 3.25, 4.08,\n",
              "       3.33, 2.5 , 1.5 , 4.06, 3.92, 4.02, 3.73, 3.89, 3.42, 3.87, 3.8 ,\n",
              "       3.13, 2.33, 3.93, 3.71, 3.4 , 2.67, 3.65, 3.74, 3.94, 3.17, 2.44,\n",
              "       4.01, 3.81, 4.04, 4.03, 3.85, 3.91, 3.63, 3.78, 3.2 , 3.26, 3.58,\n",
              "       2.75, 3.72, 3.57, 3.84, 3.64, 2.8 , 3.96, 3.82, 2.25, 3.9 , 3.79,\n",
              "       3.31, 3.59, 3.14, 2.86, 3.45, 3.7 , 3.56, 3.44, 3.29, 2.71])"
            ]
          },
          "execution_count": 53,
          "metadata": {},
          "output_type": "execute_result"
        }
      ],
      "source": [
        "listings_df['review_scores_rating'].unique()"
      ]
    },
    {
      "cell_type": "code",
      "execution_count": 54,
      "metadata": {},
      "outputs": [
        {
          "data": {
            "text/plain": [
              "array(['$139.00', '$78.00', nan, '$750.00', '$185.00', '$165.00',\n",
              "       '$110.00', '$98.00', '$240.00', '$81.00', '$65.00', '$70.00',\n",
              "       '$205.00', '$310.00', '$170.00', '$500.00', '$60.00', '$75.00',\n",
              "       '$100.00', '$95.00', '$150.00', '$130.00', '$90.00', '$73.00',\n",
              "       '$114.00', '$115.00', '$96.00', '$102.00', '$248.00', '$350.00',\n",
              "       '$103.00', '$125.00', '$157.00', '$118.00', '$300.00', '$230.00',\n",
              "       '$83.00', '$200.00', '$105.00', '$99.00', '$119.00', '$262.00',\n",
              "       '$85.00', '$220.00', '$285.00', '$89.00', '$124.00', '$145.00',\n",
              "       '$135.00', '$120.00', '$195.00', '$190.00', '$349.00', '$199.00',\n",
              "       '$900.00', '$183.00', '$141.00', '$279.00', '$325.00', '$160.00',\n",
              "       '$657.00', '$79.00', '$175.00', '$221.00', '$295.00', '$286.00',\n",
              "       '$249.00', '$259.00', '$112.00', '$425.00', '$129.00', '$56.00',\n",
              "       '$184.00', '$800.00', '$146.00', '$171.00', '$62.00', '$275.00',\n",
              "       '$180.00', '$84.00', '$140.00', '$236.00', '$113.00', '$127.00',\n",
              "       '$87.00', '$186.00', '$39.00', '$144.00', '$126.00', '$45.00',\n",
              "       '$299.00', '$398.00', '$72.00', '$227.00', '$179.00', '$88.00',\n",
              "       '$949.00', '$365.00', '$225.00', '$86.00', '$495.00', '$193.00',\n",
              "       '$329.00', '$133.00', '$192.00', '$55.00', '$264.00', '$250.00',\n",
              "       '$156.00', '$92.00', '$212.00', '$209.00', '$237.00', '$700.00',\n",
              "       '$172.00', '$40.00', '$138.00', '$35.00', '$43.00', '$364.00',\n",
              "       '$290.00', '$107.00', '$575.00', '$214.00', '$155.00', '$499.00',\n",
              "       '$415.00', '$104.00', '$61.00', '$258.00', '$101.00', '$80.00',\n",
              "       '$109.00', '$307.00', '$66.00', '$117.00', '$280.00', '$148.00',\n",
              "       '$464.00', '$49.00', '$247.00', '$151.00', '$282.00', '$69.00',\n",
              "       '$749.00', '$71.00', '$304.00', '$385.00', '$245.00', '$509.00',\n",
              "       '$48.00', '$375.00', '$163.00', '$47.00', '$595.00', '$313.00',\n",
              "       '$311.00', '$174.00', '$74.00', '$260.00', '$2,500.00', '$211.00',\n",
              "       '$187.00', '$53.00', '$270.00', '$255.00', '$276.00', '$77.00',\n",
              "       '$599.00', '$289.00', '$67.00', '$293.00', '$142.00', '$58.00',\n",
              "       '$379.00', '$111.00', '$850.00', '$108.00', '$359.00', '$68.00',\n",
              "       '$169.00', '$168.00', '$228.00', '$789.00', '$50.00', '$76.00',\n",
              "       '$585.00', '$1,364.00', '$178.00', '$196.00', '$895.00', '$122.00',\n",
              "       '$695.00', '$161.00', '$400.00', '$215.00', '$93.00', '$123.00',\n",
              "       '$528.00', '$380.00', '$189.00', '$1,000.00', '$628.00', '$167.00',\n",
              "       '$134.00', '$217.00', '$297.00', '$231.00', '$182.00', '$203.00',\n",
              "       '$82.00', '$550.00', '$162.00', '$154.00', '$235.00', '$244.00',\n",
              "       '$204.00', '$149.00', '$257.00', '$46.00', '$64.00', '$131.00',\n",
              "       '$433.00', '$128.00', '$94.00', '$357.00', '$283.00', '$650.00',\n",
              "       '$1,006.00', '$121.00', '$294.00', '$210.00', '$721.00', '$159.00',\n",
              "       '$37.00', '$97.00', '$1,999.00', '$2,136.00', '$296.00', '$106.00',\n",
              "       '$395.00', '$191.00', '$253.00', '$59.00', '$320.00', '$335.00',\n",
              "       '$42.00', '$219.00', '$600.00', '$241.00', '$1,400.00', '$635.00',\n",
              "       '$399.00', '$261.00', '$975.00', '$132.00', '$38.00', '$525.00',\n",
              "       '$194.00', '$287.00', '$435.00', '$152.00', '$188.00', '$406.00',\n",
              "       '$143.00', '$158.00', '$471.00', '$330.00', '$147.00', '$91.00',\n",
              "       '$52.00', '$636.00', '$136.00', '$670.00', '$779.00', '$25.00',\n",
              "       '$44.00', '$284.00', '$476.00', '$218.00', '$361.00', '$197.00',\n",
              "       '$239.00', '$729.00', '$265.00', '$589.00', '$229.00', '$254.00',\n",
              "       '$1,200.00', '$753.00', '$63.00', '$116.00', '$153.00', '$746.00',\n",
              "       '$725.00', '$256.00', '$246.00', '$166.00', '$177.00', '$352.00',\n",
              "       '$475.00', '$266.00', '$213.00', '$181.00', '$340.00', '$421.00',\n",
              "       '$370.00', '$252.00', '$243.00', '$478.00', '$420.00', '$833.00',\n",
              "       '$298.00', '$251.00', '$1,571.00', '$450.00', '$137.00', '$345.00',\n",
              "       '$223.00', '$164.00', '$396.00', '$553.00', '$1,500.00', '$950.00',\n",
              "       '$51.00', '$360.00', '$36.00', '$348.00', '$389.00', '$510.00',\n",
              "       '$268.00', '$301.00', '$1,100.00', '$322.00', '$1,430.00',\n",
              "       '$206.00', '$274.00', '$344.00', '$201.00', '$980.00', '$57.00',\n",
              "       '$696.00', '$207.00', '$308.00', '$232.00', '$234.00', '$173.00',\n",
              "       '$990.00', '$33.00', '$397.00', '$498.00', '$3,000.00', '$54.00',\n",
              "       '$1,057.00', '$1,143.00', '$7,500.00', '$2,000.00', '$323.00',\n",
              "       '$390.00', '$388.00', '$2,699.00', '$1,599.00', '$278.00',\n",
              "       '$351.00', '$318.00', '$995.00', '$2,480.00', '$317.00', '$291.00',\n",
              "       '$339.00', '$2,857.00', '$486.00', '$382.00', '$208.00', '$496.00',\n",
              "       '$222.00', '$1,250.00', '$319.00', '$332.00', '$41.00', '$21.00',\n",
              "       '$439.00', '$224.00', '$30.00', '$34.00', '$454.00', '$405.00',\n",
              "       '$699.00', '$24.00', '$641.00', '$176.00', '$673.00', '$10.00',\n",
              "       '$625.00', '$269.00', '$277.00', '$374.00', '$331.00', '$572.00',\n",
              "       '$642.00', '$292.00', '$366.00', '$1,275.00', '$267.00', '$543.00',\n",
              "       '$263.00', '$2,071.00', '$198.00', '$945.00', '$315.00', '$713.00',\n",
              "       '$1,129.00', '$356.00', '$574.00', '$1,293.00', '$2,250.00',\n",
              "       '$273.00', '$590.00', '$1,199.00', '$312.00', '$634.00', '$640.00',\n",
              "       '$1,350.00', '$409.00', '$233.00', '$305.00', '$216.00', '$924.00',\n",
              "       '$456.00', '$679.00', '$846.00', '$429.00', '$411.00', '$1,656.00',\n",
              "       '$334.00', '$271.00', '$321.00', '$845.00', '$3,600.00', '$32.00',\n",
              "       '$306.00', '$337.00', '$288.00', '$328.00', '$226.00', '$342.00',\n",
              "       '$362.00', '$353.00', '$336.00', '$371.00', '$302.00', '$469.00',\n",
              "       '$412.00', '$355.00', '$346.00', '$31.00', '$497.00', '$384.00',\n",
              "       '$549.00', '$929.00', '$761.00', '$416.00', '$480.00', '$430.00',\n",
              "       '$602.00', '$316.00', '$367.00', '$2,048.00', '$202.00', '$446.00',\n",
              "       '$843.00', '$901.00', '$434.00', '$376.00', '$413.00', '$4,000.00',\n",
              "       '$608.00', '$482.00', '$410.00', '$580.00', '$754.00', '$242.00',\n",
              "       '$272.00', '$347.00', '$960.00', '$29.00', '$309.00', '$479.00',\n",
              "       '$444.00', '$472.00', '$672.00', '$427.00', '$558.00', '$458.00',\n",
              "       '$514.00', '$840.00', '$404.00', '$354.00', '$665.00', '$728.00',\n",
              "       '$1,385.00', '$343.00', '$552.00', '$598.00', '$714.00', '$741.00',\n",
              "       '$303.00', '$377.00', '$455.00', '$440.00', '$333.00', '$470.00',\n",
              "       '$20.00', '$459.00', '$539.00', '$369.00', '$368.00', '$899.00',\n",
              "       '$1,833.00', '$1,147.00', '$939.00', '$1,095.00', '$620.00',\n",
              "       '$505.00', '$1,493.00', '$489.00', '$1,357.00', '$373.00',\n",
              "       '$28.00', '$849.00', '$387.00', '$536.00', '$666.00', '$520.00',\n",
              "       '$372.00', '$2,786.00', '$438.00', '$680.00', '$690.00', '$441.00',\n",
              "       '$701.00', '$462.00', '$442.00', '$639.00', '$428.00', '$956.00',\n",
              "       '$238.00', '$529.00', '$2,800.00', '$943.00', '$1,895.00',\n",
              "       '$457.00', '$3,300.00', '$999.00', '$1,164.00', '$830.00',\n",
              "       '$537.00', '$535.00', '$530.00', '$867.00', '$790.00', '$1,286.00',\n",
              "       '$566.00', '$401.00', '$358.00', '$363.00', '$584.00', '$1,679.00',\n",
              "       '$314.00', '$857.00', '$9,994.00', '$795.00', '$341.00', '$27.00',\n",
              "       '$503.00', '$491.00', '$863.00', '$422.00', '$393.00', '$577.00',\n",
              "       '$324.00', '$391.00', '$560.00', '$799.00', '$424.00', '$383.00',\n",
              "       '$904.00', '$449.00', '$10,000.00', '$685.00', '$654.00',\n",
              "       '$868.00', '$1,157.00', '$1,800.00', '$606.00', '$445.00',\n",
              "       '$281.00', '$392.00', '$408.00', '$22.00', '$381.00', '$720.00',\n",
              "       '$693.00', '$659.00', '$662.00', '$1,179.00', '$466.00', '$426.00',\n",
              "       '$2,497.00', '$607.00', '$557.00', '$1,545.00', '$452.00',\n",
              "       '$2,400.00', '$448.00', '$792.00', '$407.00', '$542.00', '$490.00',\n",
              "       '$481.00', '$516.00', '$467.00', '$1,850.00', '$338.00', '$418.00',\n",
              "       '$518.00', '$1,227.00', '$436.00', '$504.00', '$1,069.00',\n",
              "       '$541.00', '$4,100.00', '$527.00', '$403.00', '$492.00', '$484.00',\n",
              "       '$447.00', '$3,143.00', '$3,750.00', '$1,950.00', '$1,353.00',\n",
              "       '$1,502.00', '$1,550.00', '$998.00', '$1,300.00', '$797.00',\n",
              "       '$1,814.00', '$675.00', '$890.00', '$538.00', '$1,495.00',\n",
              "       '$1,575.00', '$463.00', '$649.00', '$386.00', '$1,085.00',\n",
              "       '$678.00', '$615.00', '$378.00', '$1,428.00', '$555.00', '$402.00',\n",
              "       '$327.00', '$2,900.00', '$1,195.00', '$886.00', '$515.00',\n",
              "       '$556.00', '$533.00', '$851.00', '$523.00', '$414.00', '$573.00',\n",
              "       '$437.00', '$807.00', '$551.00', '$1,577.00', '$2,750.00',\n",
              "       '$707.00', '$771.00', '$524.00', '$432.00', '$745.00', '$493.00',\n",
              "       '$461.00', '$453.00', '$581.00', '$2,748.00', '$588.00', '$477.00',\n",
              "       '$614.00', '$3,304.00', '$4,129.00', '$775.00', '$485.00',\n",
              "       '$765.00', '$1,607.00', '$782.00', '$507.00', '$957.00', '$821.00',\n",
              "       '$394.00', '$1,522.00', '$468.00', '$1,014.00', '$1,560.00',\n",
              "       '$1,150.00', '$460.00', '$963.00', '$579.00', '$856.00', '$664.00',\n",
              "       '$1,838.00', '$1,290.00', '$1,209.00', '$8,550.00', '$578.00',\n",
              "       '$829.00', '$3,643.00', '$20,000.00', '$605.00', '$1,175.00',\n",
              "       '$9,999.00', '$8,000.00', '$1,075.00', '$531.00', '$1,097.00',\n",
              "       '$955.00', '$517.00', '$674.00', '$547.00', '$1,750.00', '$801.00',\n",
              "       '$879.00', '$4,503.00', '$1,380.00', '$951.00', '$820.00',\n",
              "       '$1,294.00', '$1,489.00', '$1,193.00', '$546.00', '$671.00',\n",
              "       '$766.00', '$1,235.00', '$3,804.00', '$1,737.00', '$1,862.00',\n",
              "       '$1,994.00', '$1,611.00', '$1,035.00', '$1,048.00', '$946.00',\n",
              "       '$544.00', '$2,502.00', '$962.00', '$757.00', '$512.00', '$502.00',\n",
              "       '$631.00', '$12,738.00', '$704.00', '$1,211.00', '$576.00',\n",
              "       '$1,243.00', '$909.00', '$619.00', '$1,964.00', '$1,886.00',\n",
              "       '$889.00', '$586.00', '$932.00', '$643.00', '$651.00', '$832.00',\n",
              "       '$522.00', '$723.00', '$559.00', '$1,299.00', '$1,087.00',\n",
              "       '$737.00', '$2,099.00', '$1,063.00', '$1,591.00', '$748.00',\n",
              "       '$689.00', '$880.00', '$732.00', '$994.00', '$3,780.00', '$669.00',\n",
              "       '$806.00', '$534.00', '$326.00', '$926.00', '$1,117.00', '$519.00',\n",
              "       '$1,103.00', '$1,050.00', '$1,163.00', '$869.00', '$494.00',\n",
              "       '$570.00', '$627.00', '$1,098.00', '$4,950.00', '$521.00',\n",
              "       '$716.00', '$1,556.00', '$1,421.00', '$1,264.00', '$2,643.00',\n",
              "       '$638.00', '$823.00', '$474.00', '$451.00', '$613.00', '$8.00',\n",
              "       '$727.00', '$1,108.00', '$913.00', '$941.00', '$1,091.00',\n",
              "       '$862.00', '$1,448.00', '$2,432.00', '$596.00', '$511.00',\n",
              "       '$5,000.00', '$629.00', '$443.00', '$587.00', '$564.00', '$764.00',\n",
              "       '$431.00', '$621.00', '$804.00', '$1,377.00', '$1,177.00',\n",
              "       '$1,184.00', '$1,114.00', '$1,305.00', '$985.00', '$979.00',\n",
              "       '$744.00', '$1,655.00', '$736.00', '$583.00', '$838.00', '$630.00',\n",
              "       '$712.00', '$597.00', '$1,092.00', '$724.00', '$848.00', '$991.00',\n",
              "       '$633.00', '$1,002.00', '$1,414.00', '$1,078.00', '$6,000.00',\n",
              "       '$1,202.00', '$718.00', '$774.00', '$2,063.00', '$1,336.00',\n",
              "       '$668.00', '$2,450.00', '$684.00', '$1,736.00', '$3,800.00',\n",
              "       '$1,330.00', '$8,403.00', '$928.00', '$506.00', '$1,224.00',\n",
              "       '$617.00', '$839.00', '$920.00', '$1,064.00', '$756.00',\n",
              "       '$3,040.00', '$2,999.00', '$1,335.00', '$1,215.00', '$501.00',\n",
              "       '$760.00', '$1,671.00', '$4,645.00', '$3,380.00', '$875.00',\n",
              "       '$1,022.00', '$1,154.00', '$483.00', '$473.00', '$487.00',\n",
              "       '$548.00', '$26.00'], dtype=object)"
            ]
          },
          "execution_count": 54,
          "metadata": {},
          "output_type": "execute_result"
        }
      ],
      "source": [
        "listings_df['price'].unique()"
      ]
    },
    {
      "cell_type": "code",
      "execution_count": 58,
      "metadata": {},
      "outputs": [
        {
          "data": {
            "text/plain": [
              "id                                  0\n",
              "neighbourhood_group_cleansed        0\n",
              "price                           14815\n",
              "room_type                           0\n",
              "dtype: int64"
            ]
          },
          "execution_count": 58,
          "metadata": {},
          "output_type": "execute_result"
        }
      ],
      "source": [
        "listings_df[['id', 'neighbourhood_group_cleansed', 'price', 'room_type']].isnull().sum()"
      ]
    },
    {
      "cell_type": "markdown",
      "metadata": {},
      "source": [
        "There are ~14K properties listed that do not have a price listed against them. Once we process the data by neighbourhood groups we can impute by the median value for their respective neighbourhood. "
      ]
    },
    {
      "cell_type": "code",
      "execution_count": 59,
      "metadata": {},
      "outputs": [
        {
          "data": {
            "text/plain": [
              "Index(['listing_id', 'id', 'date', 'reviewer_id', 'reviewer_name', 'comments'], dtype='object')"
            ]
          },
          "execution_count": 59,
          "metadata": {},
          "output_type": "execute_result"
        }
      ],
      "source": [
        "reviews_df.columns"
      ]
    },
    {
      "cell_type": "code",
      "execution_count": 94,
      "metadata": {},
      "outputs": [
        {
          "data": {
            "text/plain": [
              "listing_id         0\n",
              "id                 0\n",
              "date               0\n",
              "reviewer_id        0\n",
              "reviewer_name      3\n",
              "comments         235\n",
              "dtype: int64"
            ]
          },
          "execution_count": 94,
          "metadata": {},
          "output_type": "execute_result"
        }
      ],
      "source": [
        "reviews_df.isnull().sum()"
      ]
    },
    {
      "cell_type": "code",
      "execution_count": 60,
      "metadata": {
        "id": "eW66l9fUV_er"
      },
      "outputs": [
        {
          "data": {
            "text/html": [
              "<div>\n",
              "<style scoped>\n",
              "    .dataframe tbody tr th:only-of-type {\n",
              "        vertical-align: middle;\n",
              "    }\n",
              "\n",
              "    .dataframe tbody tr th {\n",
              "        vertical-align: top;\n",
              "    }\n",
              "\n",
              "    .dataframe thead th {\n",
              "        text-align: right;\n",
              "    }\n",
              "</style>\n",
              "<table border=\"1\" class=\"dataframe\">\n",
              "  <thead>\n",
              "    <tr style=\"text-align: right;\">\n",
              "      <th></th>\n",
              "      <th>neighbourhood_group</th>\n",
              "      <th>neighbourhood</th>\n",
              "    </tr>\n",
              "  </thead>\n",
              "  <tbody>\n",
              "    <tr>\n",
              "      <th>0</th>\n",
              "      <td>Bronx</td>\n",
              "      <td>Allerton</td>\n",
              "    </tr>\n",
              "    <tr>\n",
              "      <th>1</th>\n",
              "      <td>Bronx</td>\n",
              "      <td>Baychester</td>\n",
              "    </tr>\n",
              "    <tr>\n",
              "      <th>2</th>\n",
              "      <td>Bronx</td>\n",
              "      <td>Belmont</td>\n",
              "    </tr>\n",
              "    <tr>\n",
              "      <th>3</th>\n",
              "      <td>Bronx</td>\n",
              "      <td>Bronxdale</td>\n",
              "    </tr>\n",
              "    <tr>\n",
              "      <th>4</th>\n",
              "      <td>Bronx</td>\n",
              "      <td>Castle Hill</td>\n",
              "    </tr>\n",
              "    <tr>\n",
              "      <th>...</th>\n",
              "      <td>...</td>\n",
              "      <td>...</td>\n",
              "    </tr>\n",
              "    <tr>\n",
              "      <th>225</th>\n",
              "      <td>Staten Island</td>\n",
              "      <td>Tottenville</td>\n",
              "    </tr>\n",
              "    <tr>\n",
              "      <th>226</th>\n",
              "      <td>Staten Island</td>\n",
              "      <td>West Brighton</td>\n",
              "    </tr>\n",
              "    <tr>\n",
              "      <th>227</th>\n",
              "      <td>Staten Island</td>\n",
              "      <td>Westerleigh</td>\n",
              "    </tr>\n",
              "    <tr>\n",
              "      <th>228</th>\n",
              "      <td>Staten Island</td>\n",
              "      <td>Willowbrook</td>\n",
              "    </tr>\n",
              "    <tr>\n",
              "      <th>229</th>\n",
              "      <td>Staten Island</td>\n",
              "      <td>Woodrow</td>\n",
              "    </tr>\n",
              "  </tbody>\n",
              "</table>\n",
              "<p>230 rows × 2 columns</p>\n",
              "</div>"
            ],
            "text/plain": [
              "    neighbourhood_group  neighbourhood\n",
              "0                 Bronx       Allerton\n",
              "1                 Bronx     Baychester\n",
              "2                 Bronx        Belmont\n",
              "3                 Bronx      Bronxdale\n",
              "4                 Bronx    Castle Hill\n",
              "..                  ...            ...\n",
              "225       Staten Island    Tottenville\n",
              "226       Staten Island  West Brighton\n",
              "227       Staten Island    Westerleigh\n",
              "228       Staten Island    Willowbrook\n",
              "229       Staten Island        Woodrow\n",
              "\n",
              "[230 rows x 2 columns]"
            ]
          },
          "execution_count": 60,
          "metadata": {},
          "output_type": "execute_result"
        }
      ],
      "source": [
        "neighbourhoods_df"
      ]
    },
    {
      "cell_type": "code",
      "execution_count": 61,
      "metadata": {
        "colab": {
          "base_uri": "https://localhost:8080/"
        },
        "id": "qWRPe9_cB9r6",
        "outputId": "db3d9c2b-c048-4222-a142-9b0231761b7c"
      },
      "outputs": [
        {
          "data": {
            "text/plain": [
              "Index(['neighbourhood_group', 'neighbourhood'], dtype='object')"
            ]
          },
          "execution_count": 61,
          "metadata": {},
          "output_type": "execute_result"
        }
      ],
      "source": [
        "neighbourhoods_df.columns"
      ]
    },
    {
      "cell_type": "code",
      "execution_count": 62,
      "metadata": {},
      "outputs": [
        {
          "data": {
            "text/plain": [
              "array(['Bronx', 'Brooklyn', 'Manhattan', 'Queens', 'Staten Island'],\n",
              "      dtype=object)"
            ]
          },
          "execution_count": 62,
          "metadata": {},
          "output_type": "execute_result"
        }
      ],
      "source": [
        "neighbourhoods_df['neighbourhood_group'].unique()"
      ]
    },
    {
      "cell_type": "markdown",
      "metadata": {},
      "source": [
        "Number of Columns for every file : "
      ]
    },
    {
      "cell_type": "code",
      "execution_count": 36,
      "metadata": {},
      "outputs": [
        {
          "name": "stdout",
          "output_type": "stream",
          "text": [
            "Listings :  75\n",
            "Reviews :  6\n",
            "Neighborhoods:  2\n"
          ]
        }
      ],
      "source": [
        "#Number of columns in listings_df\n",
        "\n",
        "print(\"Listings : \", listings_df.columns.size)\n",
        "print(\"Reviews : \", reviews_df.columns.size)\n",
        "print(\"Neighborhoods: \", neighbourhoods_df.columns.size)"
      ]
    },
    {
      "cell_type": "markdown",
      "metadata": {},
      "source": [
        "Shape for every file: "
      ]
    },
    {
      "cell_type": "code",
      "execution_count": 63,
      "metadata": {},
      "outputs": [
        {
          "name": "stdout",
          "output_type": "stream",
          "text": [
            "Listings :  (37784, 75)\n",
            "Reviews :  (969486, 6)\n",
            "Neighborhoods:  (230, 2)\n"
          ]
        }
      ],
      "source": [
        "print(\"Listings : \", listings_df.shape)\n",
        "print(\"Reviews : \", reviews_df.shape)\n",
        "print(\"Neighborhoods: \", neighbourhoods_df.shape)"
      ]
    },
    {
      "cell_type": "markdown",
      "metadata": {},
      "source": [
        "In the recommendation system, we can incorporate the following columns : \n",
        "* neighborhood_overview\n",
        "* review_scores_rating\n",
        "* amenities\n",
        "\n",
        "We can merge the reviews.csv and listings.csv on the listing id and add the following columns to the reviews : \n",
        "\n",
        "* neighbourhood_group_cleansed\n",
        "* room_type\n",
        "* price"
      ]
    },
    {
      "cell_type": "markdown",
      "metadata": {},
      "source": [
        "<h3> Merging the Datasets :</h3>"
      ]
    },
    {
      "cell_type": "code",
      "execution_count": 64,
      "metadata": {},
      "outputs": [
        {
          "data": {
            "text/plain": [
              "Index(['listing_id', 'id', 'date', 'reviewer_id', 'reviewer_name', 'comments'], dtype='object')"
            ]
          },
          "execution_count": 64,
          "metadata": {},
          "output_type": "execute_result"
        }
      ],
      "source": [
        "reviews_df.columns"
      ]
    },
    {
      "cell_type": "code",
      "execution_count": 109,
      "metadata": {},
      "outputs": [],
      "source": [
        "# Prepare the listings dataframe: select columns, rename, and set index to 'id'\n",
        "listings_join = listings_df[['id', 'neighbourhood_group_cleansed', 'room_type', 'price']].rename(\n",
        "    columns={'neighbourhood_group_cleansed': 'neighbourhood_group'}\n",
        ").set_index('id')\n",
        "\n",
        "# Set the index of the reviews dataframe to 'listing_id'\n",
        "reviews_indexed = reviews_df[['listing_id', 'id', 'date','comments']].rename(\n",
        "    columns={'comments': 'reviews', 'id':'review_id'}).set_index('listing_id')\n",
        "\n",
        "# Join the two dataframes\n",
        "reviews_merged_df = reviews_indexed.join(listings_join, how='left').reset_index()\n"
      ]
    },
    {
      "cell_type": "code",
      "execution_count": null,
      "metadata": {},
      "outputs": [],
      "source": [
        "# merged_df = reviews_df.merge(\n",
        "#     listings_df[['id', 'neighbourhood_group_cleansed', 'room_type', 'price']],\n",
        "#     left_on='listing_id',\n",
        "#     right_on='id',\n",
        "#     how='left'\n",
        "# )"
      ]
    },
    {
      "cell_type": "code",
      "execution_count": 110,
      "metadata": {},
      "outputs": [
        {
          "data": {
            "text/html": [
              "<div>\n",
              "<style scoped>\n",
              "    .dataframe tbody tr th:only-of-type {\n",
              "        vertical-align: middle;\n",
              "    }\n",
              "\n",
              "    .dataframe tbody tr th {\n",
              "        vertical-align: top;\n",
              "    }\n",
              "\n",
              "    .dataframe thead th {\n",
              "        text-align: right;\n",
              "    }\n",
              "</style>\n",
              "<table border=\"1\" class=\"dataframe\">\n",
              "  <thead>\n",
              "    <tr style=\"text-align: right;\">\n",
              "      <th></th>\n",
              "      <th>listing_id</th>\n",
              "      <th>review_id</th>\n",
              "      <th>date</th>\n",
              "      <th>reviews</th>\n",
              "      <th>neighbourhood_group</th>\n",
              "      <th>room_type</th>\n",
              "      <th>price</th>\n",
              "    </tr>\n",
              "  </thead>\n",
              "  <tbody>\n",
              "    <tr>\n",
              "      <th>0</th>\n",
              "      <td>2595</td>\n",
              "      <td>17857</td>\n",
              "      <td>2009-11-21</td>\n",
              "      <td>Notre séjour de trois nuits.\\r&lt;br/&gt;Nous avons ...</td>\n",
              "      <td>Manhattan</td>\n",
              "      <td>Entire home/apt</td>\n",
              "      <td>$240.00</td>\n",
              "    </tr>\n",
              "    <tr>\n",
              "      <th>1</th>\n",
              "      <td>2595</td>\n",
              "      <td>19176</td>\n",
              "      <td>2009-12-05</td>\n",
              "      <td>Great experience.</td>\n",
              "      <td>Manhattan</td>\n",
              "      <td>Entire home/apt</td>\n",
              "      <td>$240.00</td>\n",
              "    </tr>\n",
              "    <tr>\n",
              "      <th>2</th>\n",
              "      <td>2595</td>\n",
              "      <td>19760</td>\n",
              "      <td>2009-12-10</td>\n",
              "      <td>I've stayed with my friend at the Midtown Cast...</td>\n",
              "      <td>Manhattan</td>\n",
              "      <td>Entire home/apt</td>\n",
              "      <td>$240.00</td>\n",
              "    </tr>\n",
              "    <tr>\n",
              "      <th>3</th>\n",
              "      <td>2595</td>\n",
              "      <td>34320</td>\n",
              "      <td>2010-04-09</td>\n",
              "      <td>We've been staying here for about 9 nights, en...</td>\n",
              "      <td>Manhattan</td>\n",
              "      <td>Entire home/apt</td>\n",
              "      <td>$240.00</td>\n",
              "    </tr>\n",
              "    <tr>\n",
              "      <th>4</th>\n",
              "      <td>2595</td>\n",
              "      <td>46312</td>\n",
              "      <td>2010-05-25</td>\n",
              "      <td>We had a wonderful stay at Jennifer's charming...</td>\n",
              "      <td>Manhattan</td>\n",
              "      <td>Entire home/apt</td>\n",
              "      <td>$240.00</td>\n",
              "    </tr>\n",
              "    <tr>\n",
              "      <th>...</th>\n",
              "      <td>...</td>\n",
              "      <td>...</td>\n",
              "      <td>...</td>\n",
              "      <td>...</td>\n",
              "      <td>...</td>\n",
              "      <td>...</td>\n",
              "      <td>...</td>\n",
              "    </tr>\n",
              "    <tr>\n",
              "      <th>969481</th>\n",
              "      <td>1295054021439479562</td>\n",
              "      <td>1318207836791174950</td>\n",
              "      <td>2024-12-23</td>\n",
              "      <td>The place was amazing! Great location and area...</td>\n",
              "      <td>Manhattan</td>\n",
              "      <td>Entire home/apt</td>\n",
              "      <td>$400.00</td>\n",
              "    </tr>\n",
              "    <tr>\n",
              "      <th>969482</th>\n",
              "      <td>1295058207773420592</td>\n",
              "      <td>1302324242336666111</td>\n",
              "      <td>2024-12-01</td>\n",
              "      <td>This was the perfect stay for our trip. Margar...</td>\n",
              "      <td>Queens</td>\n",
              "      <td>Entire home/apt</td>\n",
              "      <td>$175.00</td>\n",
              "    </tr>\n",
              "    <tr>\n",
              "      <th>969483</th>\n",
              "      <td>1295058207773420592</td>\n",
              "      <td>1305143295960134335</td>\n",
              "      <td>2024-12-05</td>\n",
              "      <td>….lugar increíble me sentí como en casa</td>\n",
              "      <td>Queens</td>\n",
              "      <td>Entire home/apt</td>\n",
              "      <td>$175.00</td>\n",
              "    </tr>\n",
              "    <tr>\n",
              "      <th>969484</th>\n",
              "      <td>1295058207773420592</td>\n",
              "      <td>1309605174750125344</td>\n",
              "      <td>2024-12-11</td>\n",
              "      <td>We loved this place and would stay again.  Our...</td>\n",
              "      <td>Queens</td>\n",
              "      <td>Entire home/apt</td>\n",
              "      <td>$175.00</td>\n",
              "    </tr>\n",
              "    <tr>\n",
              "      <th>969485</th>\n",
              "      <td>1295058207773420592</td>\n",
              "      <td>1313938907016779168</td>\n",
              "      <td>2024-12-17</td>\n",
              "      <td>Great place to stay at definitely would stay t...</td>\n",
              "      <td>Queens</td>\n",
              "      <td>Entire home/apt</td>\n",
              "      <td>$175.00</td>\n",
              "    </tr>\n",
              "  </tbody>\n",
              "</table>\n",
              "<p>969486 rows × 7 columns</p>\n",
              "</div>"
            ],
            "text/plain": [
              "                 listing_id            review_id        date  \\\n",
              "0                      2595                17857  2009-11-21   \n",
              "1                      2595                19176  2009-12-05   \n",
              "2                      2595                19760  2009-12-10   \n",
              "3                      2595                34320  2010-04-09   \n",
              "4                      2595                46312  2010-05-25   \n",
              "...                     ...                  ...         ...   \n",
              "969481  1295054021439479562  1318207836791174950  2024-12-23   \n",
              "969482  1295058207773420592  1302324242336666111  2024-12-01   \n",
              "969483  1295058207773420592  1305143295960134335  2024-12-05   \n",
              "969484  1295058207773420592  1309605174750125344  2024-12-11   \n",
              "969485  1295058207773420592  1313938907016779168  2024-12-17   \n",
              "\n",
              "                                                  reviews neighbourhood_group  \\\n",
              "0       Notre séjour de trois nuits.\\r<br/>Nous avons ...           Manhattan   \n",
              "1                                       Great experience.           Manhattan   \n",
              "2       I've stayed with my friend at the Midtown Cast...           Manhattan   \n",
              "3       We've been staying here for about 9 nights, en...           Manhattan   \n",
              "4       We had a wonderful stay at Jennifer's charming...           Manhattan   \n",
              "...                                                   ...                 ...   \n",
              "969481  The place was amazing! Great location and area...           Manhattan   \n",
              "969482  This was the perfect stay for our trip. Margar...              Queens   \n",
              "969483            ….lugar increíble me sentí como en casa              Queens   \n",
              "969484  We loved this place and would stay again.  Our...              Queens   \n",
              "969485  Great place to stay at definitely would stay t...              Queens   \n",
              "\n",
              "              room_type    price  \n",
              "0       Entire home/apt  $240.00  \n",
              "1       Entire home/apt  $240.00  \n",
              "2       Entire home/apt  $240.00  \n",
              "3       Entire home/apt  $240.00  \n",
              "4       Entire home/apt  $240.00  \n",
              "...                 ...      ...  \n",
              "969481  Entire home/apt  $400.00  \n",
              "969482  Entire home/apt  $175.00  \n",
              "969483  Entire home/apt  $175.00  \n",
              "969484  Entire home/apt  $175.00  \n",
              "969485  Entire home/apt  $175.00  \n",
              "\n",
              "[969486 rows x 7 columns]"
            ]
          },
          "execution_count": 110,
          "metadata": {},
          "output_type": "execute_result"
        }
      ],
      "source": [
        "reviews_merged_df"
      ]
    },
    {
      "cell_type": "code",
      "execution_count": 111,
      "metadata": {},
      "outputs": [
        {
          "data": {
            "text/plain": [
              "969486"
            ]
          },
          "execution_count": 111,
          "metadata": {},
          "output_type": "execute_result"
        }
      ],
      "source": [
        "reviews_df['id'].nunique()"
      ]
    },
    {
      "cell_type": "code",
      "execution_count": null,
      "metadata": {},
      "outputs": [],
      "source": [
        "# # Save reviews_df as a CSV file to your data folder\n",
        "# reviews_df.to_csv('data/reviews_df.csv', index=False)\n"
      ]
    },
    {
      "cell_type": "code",
      "execution_count": 112,
      "metadata": {},
      "outputs": [
        {
          "data": {
            "text/plain": [
              "Index(['listing_id', 'review_id', 'date', 'reviews', 'neighbourhood_group',\n",
              "       'room_type', 'price'],\n",
              "      dtype='object')"
            ]
          },
          "execution_count": 112,
          "metadata": {},
          "output_type": "execute_result"
        }
      ],
      "source": [
        "reviews_merged_df.columns"
      ]
    },
    {
      "cell_type": "markdown",
      "metadata": {
        "id": "-rkyCXGC6wl_"
      },
      "source": [
        "# Exploratory Data Analysis"
      ]
    },
    {
      "cell_type": "markdown",
      "metadata": {},
      "source": [
        "### Handling Missing Values -"
      ]
    },
    {
      "cell_type": "code",
      "execution_count": 113,
      "metadata": {},
      "outputs": [
        {
          "data": {
            "text/plain": [
              "listing_id                  0\n",
              "review_id                   0\n",
              "date                        0\n",
              "reviews                   235\n",
              "neighbourhood_group         0\n",
              "room_type                   0\n",
              "price                  199384\n",
              "dtype: int64"
            ]
          },
          "execution_count": 113,
          "metadata": {},
          "output_type": "execute_result"
        }
      ],
      "source": [
        "reviews_merged_df.isnull().sum()"
      ]
    },
    {
      "cell_type": "markdown",
      "metadata": {},
      "source": [
        "For missing price values, we can impute median values according to the neighbourhood"
      ]
    },
    {
      "cell_type": "code",
      "execution_count": 114,
      "metadata": {},
      "outputs": [
        {
          "name": "stderr",
          "output_type": "stream",
          "text": [
            "<>:2: SyntaxWarning: invalid escape sequence '\\d'\n",
            "<>:2: SyntaxWarning: invalid escape sequence '\\d'\n",
            "C:\\Users\\avant\\AppData\\Local\\Temp\\ipykernel_33416\\2406154379.py:2: SyntaxWarning: invalid escape sequence '\\d'\n",
            "  non_numeric_prices = reviews_merged_df[~reviews_merged_df['price'].astype(str).str.replace('[\\d.,]', '', regex=True).eq('')]\n"
          ]
        },
        {
          "name": "stdout",
          "output_type": "stream",
          "text": [
            "Non-numeric values found in 'price' column:\n",
            "     price\n",
            "0  $240.00\n",
            "1  $240.00\n",
            "2  $240.00\n",
            "3  $240.00\n",
            "4  $240.00\n",
            "5  $240.00\n",
            "6  $240.00\n",
            "7  $240.00\n",
            "8  $240.00\n",
            "9  $240.00\n"
          ]
        }
      ],
      "source": [
        "# Check if 'price' column contains non-numeric values\n",
        "non_numeric_prices = reviews_merged_df[~reviews_merged_df['price'].astype(str).str.replace('[\\d.,]', '', regex=True).eq('')]\n",
        "\n",
        "# Display any non-numeric values\n",
        "if not non_numeric_prices.empty:\n",
        "    print(\"Non-numeric values found in 'price' column:\")\n",
        "    print(non_numeric_prices[['price']].head(10))  # Show first 10 non-numeric values if they exist\n",
        "else:\n",
        "    print(\"No non-numeric values found in 'price' column.\")\n"
      ]
    },
    {
      "cell_type": "code",
      "execution_count": 115,
      "metadata": {},
      "outputs": [
        {
          "data": {
            "text/plain": [
              "dtype('O')"
            ]
          },
          "execution_count": 115,
          "metadata": {},
          "output_type": "execute_result"
        }
      ],
      "source": [
        "reviews_merged_df['price'].dtype"
      ]
    },
    {
      "cell_type": "markdown",
      "metadata": {},
      "source": [
        "Our Price column contains values with the \"$\" sign, before imputing with the median price for the neighbourhood, we need to remove the sign and convert it into a numeric column"
      ]
    },
    {
      "cell_type": "code",
      "execution_count": 116,
      "metadata": {},
      "outputs": [
        {
          "name": "stdout",
          "output_type": "stream",
          "text": [
            "Missing values in 'price' after imputation: 0\n"
          ]
        }
      ],
      "source": [
        "# Remove the $ sign and convert price to numeric\n",
        "reviews_merged_df['price'] = reviews_merged_df['price'].replace('[$,]', '', regex=True).astype(float)\n",
        "\n",
        "# Impute missing price values with the median price of the corresponding neighbourhood\n",
        "reviews_merged_df['price'] = reviews_merged_df.groupby('neighbourhood_group')['price'].transform(lambda x: x.fillna(x.median()))\n",
        "\n",
        "# Verify if there are any remaining missing values\n",
        "print(\"Missing values in 'price' after imputation:\", reviews_merged_df['price'].isnull().sum())\n"
      ]
    },
    {
      "cell_type": "code",
      "execution_count": 117,
      "metadata": {},
      "outputs": [
        {
          "data": {
            "text/plain": [
              "listing_id               0\n",
              "review_id                0\n",
              "date                     0\n",
              "reviews                235\n",
              "neighbourhood_group      0\n",
              "room_type                0\n",
              "price                    0\n",
              "dtype: int64"
            ]
          },
          "execution_count": 117,
          "metadata": {},
          "output_type": "execute_result"
        }
      ],
      "source": [
        "reviews_merged_df.isnull().sum()"
      ]
    },
    {
      "cell_type": "markdown",
      "metadata": {},
      "source": [
        "For missing reviews, we can just drop those rows"
      ]
    },
    {
      "cell_type": "code",
      "execution_count": 118,
      "metadata": {},
      "outputs": [],
      "source": [
        "reviews_merged_df = reviews_merged_df.dropna(subset=['reviews'])"
      ]
    },
    {
      "cell_type": "code",
      "execution_count": 119,
      "metadata": {},
      "outputs": [
        {
          "data": {
            "text/plain": [
              "listing_id             0\n",
              "review_id              0\n",
              "date                   0\n",
              "reviews                0\n",
              "neighbourhood_group    0\n",
              "room_type              0\n",
              "price                  0\n",
              "dtype: int64"
            ]
          },
          "execution_count": 119,
          "metadata": {},
          "output_type": "execute_result"
        }
      ],
      "source": [
        "reviews_merged_df.isnull().sum()"
      ]
    },
    {
      "cell_type": "markdown",
      "metadata": {},
      "source": [
        "We have no missing values anymore"
      ]
    },
    {
      "cell_type": "code",
      "execution_count": 125,
      "metadata": {},
      "outputs": [],
      "source": [
        "import pandas as pd\n",
        "import matplotlib.pyplot as plt\n",
        "import seaborn as sns\n",
        "\n",
        "# Set a clean, modern style and color palette\n",
        "sns.set_theme(style=\"whitegrid\", palette=\"viridis\")\n",
        "plt.rcParams.update({\n",
        "    'figure.figsize': (10, 6),\n",
        "    'axes.titlesize': 16,\n",
        "    'axes.labelsize': 14,\n",
        "    'xtick.labelsize': 12,\n",
        "    'ytick.labelsize': 12\n",
        "})"
      ]
    },
    {
      "cell_type": "markdown",
      "metadata": {},
      "source": [
        "Neighbourhood Group Distribution:"
      ]
    },
    {
      "cell_type": "code",
      "execution_count": 120,
      "metadata": {},
      "outputs": [
        {
          "name": "stdout",
          "output_type": "stream",
          "text": [
            "\n",
            "Neighbourhood Group Counts:\n",
            "neighbourhood_group\n",
            "Brooklyn         410086\n",
            "Manhattan        339505\n",
            "Queens           174286\n",
            "Bronx             31819\n",
            "Staten Island     13555\n",
            "Name: count, dtype: int64\n"
          ]
        },
        {
          "name": "stderr",
          "output_type": "stream",
          "text": [
            "C:\\Users\\avant\\AppData\\Local\\Temp\\ipykernel_33416\\7198505.py:7: FutureWarning: \n",
            "\n",
            "Passing `palette` without assigning `hue` is deprecated and will be removed in v0.14.0. Assign the `x` variable to `hue` and set `legend=False` for the same effect.\n",
            "\n",
            "  sns.barplot(x=neighbourhood_counts.index, y=neighbourhood_counts.values, palette='viridis')\n"
          ]
        },
        {
          "data": {
            "image/png": "[encoded data removed]",
            "text/plain": [
              "<Figure size 1000x600 with 1 Axes>"
            ]
          },
          "metadata": {},
          "output_type": "display_data"
        }
      ],
      "source": [
        "# Analyze 'neighbourhood_group' distribution\n",
        "neighbourhood_counts = reviews_merged_df['neighbourhood_group'].value_counts()\n",
        "print(\"\\nNeighbourhood Group Counts:\")\n",
        "print(neighbourhood_counts)\n",
        "\n",
        "plt.figure()\n",
        "sns.barplot(x=neighbourhood_counts.index, y=neighbourhood_counts.values, palette='viridis')\n",
        "plt.title('Number of Reviews by Neighbourhood Group')\n",
        "plt.xlabel('Neighbourhood Group')\n",
        "plt.ylabel('Count')\n",
        "plt.xticks(rotation=45)\n",
        "plt.tight_layout()\n",
        "plt.show()"
      ]
    },
    {
      "cell_type": "markdown",
      "metadata": {},
      "source": [
        "<H3> Room Distribution </H3>"
      ]
    },
    {
      "cell_type": "code",
      "execution_count": 122,
      "metadata": {},
      "outputs": [
        {
          "name": "stdout",
          "output_type": "stream",
          "text": [
            "\n",
            "Room Type Counts:\n",
            "room_type\n",
            "Entire home/apt    492065\n",
            "Private room       469361\n",
            "Hotel room           4800\n",
            "Shared room          3025\n",
            "Name: count, dtype: int64\n"
          ]
        },
        {
          "name": "stderr",
          "output_type": "stream",
          "text": [
            "C:\\Users\\avant\\AppData\\Local\\Temp\\ipykernel_33416\\1292047469.py:7: FutureWarning: \n",
            "\n",
            "Passing `palette` without assigning `hue` is deprecated and will be removed in v0.14.0. Assign the `x` variable to `hue` and set `legend=False` for the same effect.\n",
            "\n",
            "  sns.barplot(x=room_type_counts.index, y=room_type_counts.values, palette='viridis')\n"
          ]
        },
        {
          "data": {
            "image/png": "[encoded data removed]",
            "text/plain": [
              "<Figure size 1000x600 with 1 Axes>"
            ]
          },
          "metadata": {},
          "output_type": "display_data"
        }
      ],
      "source": [
        "# Plot 3: Room Type Distribution\n",
        "room_type_counts = reviews_merged_df['room_type'].value_counts()\n",
        "print(\"\\nRoom Type Counts:\")\n",
        "print(room_type_counts)\n",
        "\n",
        "plt.figure()\n",
        "sns.barplot(x=room_type_counts.index, y=room_type_counts.values, palette='viridis')\n",
        "plt.title('Number of Reviews by Room Type')\n",
        "plt.xlabel('Room Type')\n",
        "plt.ylabel('Count')\n",
        "plt.xticks(rotation=45)\n",
        "plt.tight_layout()\n",
        "plt.show()"
      ]
    },
    {
      "cell_type": "markdown",
      "metadata": {},
      "source": [
        "<h3>Number of Reviews over time</h3>"
      ]
    },
    {
      "cell_type": "code",
      "execution_count": 123,
      "metadata": {},
      "outputs": [
        {
          "name": "stderr",
          "output_type": "stream",
          "text": [
            "C:\\Users\\avant\\AppData\\Local\\Temp\\ipykernel_33416\\725850854.py:2: SettingWithCopyWarning: \n",
            "A value is trying to be set on a copy of a slice from a DataFrame.\n",
            "Try using .loc[row_indexer,col_indexer] = value instead\n",
            "\n",
            "See the caveats in the documentation: https://pandas.pydata.org/pandas-docs/stable/user_guide/indexing.html#returning-a-view-versus-a-copy\n",
            "  reviews_merged_df['date'] = pd.to_datetime(reviews_merged_df['date'], errors='coerce')\n"
          ]
        },
        {
          "data": {
            "image/png": "[encoded data removed]",
            "text/plain": [
              "<Figure size 1000x600 with 1 Axes>"
            ]
          },
          "metadata": {},
          "output_type": "display_data"
        }
      ],
      "source": [
        "# Plot 1: Number of Reviews Over Time\n",
        "reviews_merged_df['date'] = pd.to_datetime(reviews_merged_df['date'], errors='coerce')\n",
        "reviews_by_date = reviews_merged_df['date'].value_counts().sort_index()\n",
        "plt.figure()\n",
        "plt.plot(reviews_by_date.index, reviews_by_date.values, color='darkblue', linewidth=2)\n",
        "plt.title('Number of Reviews Over Time')\n",
        "plt.xlabel('Date')\n",
        "plt.ylabel('Number of Reviews')\n",
        "plt.xticks(rotation=45)\n",
        "plt.tight_layout()\n",
        "plt.show()"
      ]
    },
    {
      "cell_type": "markdown",
      "metadata": {},
      "source": [
        "<H3>Price distribution</h3>"
      ]
    },
    {
      "cell_type": "code",
      "execution_count": 126,
      "metadata": {},
      "outputs": [
        {
          "data": {
            "image/png": "[encoded data removed]",
            "text/plain": [
              "<Figure size 1000x600 with 1 Axes>"
            ]
          },
          "metadata": {},
          "output_type": "display_data"
        }
      ],
      "source": [
        "# Plot 4: Price Distribution\n",
        "plt.figure()\n",
        "sns.histplot(reviews_merged_df['price'], bins=50, kde=True, color='darkblue')\n",
        "plt.title('Price Distribution')\n",
        "plt.xlabel('Price')\n",
        "plt.ylabel('Count')\n",
        "plt.tight_layout()\n",
        "plt.show()"
      ]
    },
    {
      "cell_type": "markdown",
      "metadata": {},
      "source": [
        "<h3>Review Length Distribution</h3>"
      ]
    },
    {
      "cell_type": "code",
      "execution_count": 127,
      "metadata": {},
      "outputs": [
        {
          "name": "stderr",
          "output_type": "stream",
          "text": [
            "C:\\Users\\avant\\AppData\\Local\\Temp\\ipykernel_33416\\3782999075.py:3: SettingWithCopyWarning: \n",
            "A value is trying to be set on a copy of a slice from a DataFrame.\n",
            "Try using .loc[row_indexer,col_indexer] = value instead\n",
            "\n",
            "See the caveats in the documentation: https://pandas.pydata.org/pandas-docs/stable/user_guide/indexing.html#returning-a-view-versus-a-copy\n",
            "  reviews_merged_df['review_length'] = reviews_merged_df['reviews'].apply(lambda x: len(x.split()) if isinstance(x, str) else 0)\n"
          ]
        },
        {
          "name": "stdout",
          "output_type": "stream",
          "text": [
            "\n",
            "Review Length Statistics (in words):\n",
            "count    969251.000000\n",
            "mean         44.991745\n",
            "std          45.959195\n",
            "min           1.000000\n",
            "25%          15.000000\n",
            "50%          32.000000\n",
            "75%          60.000000\n",
            "max        1001.000000\n",
            "Name: review_length, dtype: float64\n"
          ]
        },
        {
          "data": {
            "image/png": "[encoded data removed]",
            "text/plain": [
              "<Figure size 1000x600 with 1 Axes>"
            ]
          },
          "metadata": {},
          "output_type": "display_data"
        }
      ],
      "source": [
        "# Plot 5: Review Length Distribution\n",
        "# Calculate the number of words per review\n",
        "reviews_merged_df['review_length'] = reviews_merged_df['reviews'].apply(lambda x: len(x.split()) if isinstance(x, str) else 0)\n",
        "print(\"\\nReview Length Statistics (in words):\")\n",
        "print(reviews_merged_df['review_length'].describe())\n",
        "\n",
        "plt.figure()\n",
        "sns.histplot(reviews_merged_df['review_length'], bins=50, kde=True, color='darkgreen')\n",
        "plt.title('Distribution of Review Length (words)')\n",
        "plt.xlabel('Word Count')\n",
        "plt.ylabel('Count')\n",
        "plt.tight_layout()\n",
        "plt.show()"
      ]
    },
    {
      "cell_type": "markdown",
      "metadata": {},
      "source": [
        "# Splitting into 5 Boroughs"
      ]
    },
    {
      "cell_type": "code",
      "execution_count": 129,
      "metadata": {},
      "outputs": [
        {
          "data": {
            "text/plain": [
              "array(['Manhattan', 'Brooklyn', 'Staten Island', 'Queens', 'Bronx'],\n",
              "      dtype=object)"
            ]
          },
          "execution_count": 129,
          "metadata": {},
          "output_type": "execute_result"
        }
      ],
      "source": [
        "reviews_merged_df['neighbourhood_group'].unique()"
      ]
    },
    {
      "cell_type": "code",
      "execution_count": 131,
      "metadata": {},
      "outputs": [],
      "source": [
        "manhattan_df = reviews_merged_df[reviews_merged_df['neighbourhood_group']==\"Manhattan\"]\n",
        "queens_df = reviews_merged_df[reviews_merged_df['neighbourhood_group']==\"Queens\"]\n",
        "bronx_df = reviews_merged_df[reviews_merged_df['neighbourhood_group']==\"Bronx\"]\n",
        "staten_df = reviews_merged_df[reviews_merged_df['neighbourhood_group']==\"Staten Island\"]\n",
        "brooklyn_df = reviews_merged_df[reviews_merged_df['neighbourhood_group']==\"Brooklyn\"]"
      ]
    },
    {
      "cell_type": "markdown",
      "metadata": {
        "id": "_MgFkKY96_KS"
      },
      "source": [
        "# Preprocessing the Text"
      ]
    },
    {
      "cell_type": "code",
      "execution_count": null,
      "metadata": {
        "id": "545RacKLX79N"
      },
      "outputs": [],
      "source": []
    },
    {
      "cell_type": "markdown",
      "metadata": {
        "id": "GzakN38Z_Oqg"
      },
      "source": [
        "# Feature Engineering"
      ]
    },
    {
      "cell_type": "code",
      "execution_count": null,
      "metadata": {
        "id": "xh1ny07NYCRo"
      },
      "outputs": [],
      "source": []
    }
  ],
  "metadata": {
    "colab": {
      "provenance": []
    },
    "kernelspec": {
      "display_name": "Python 3",
      "name": "python3"
    },
    "language_info": {
      "codemirror_mode": {
        "name": "ipython",
        "version": 3
      },
      "file_extension": ".py",
      "mimetype": "text/x-python",
      "name": "python",
      "nbconvert_exporter": "python",
      "pygments_lexer": "ipython3",
      "version": "3.12.2"
    }
  },
  "nbformat": 4,
  "nbformat_minor": 0
}
